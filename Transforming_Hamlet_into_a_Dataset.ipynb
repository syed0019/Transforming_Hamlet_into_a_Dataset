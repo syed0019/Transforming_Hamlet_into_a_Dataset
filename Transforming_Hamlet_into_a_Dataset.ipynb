{
 "cells": [
  {
   "cell_type": "markdown",
   "metadata": {},
   "source": [
    "## Transforming_Hamlet_into_a_Dataset"
   ]
  },
  {
   "cell_type": "markdown",
   "metadata": {},
   "source": [
    "In this project, we used the techniques of PySpark, the MapReduce paradigm, transformations and actions, and data cleanup to transform the text of _Hamlet_ into a format that's more useful for data analysis.\n",
    "\n",
    "The file `hamlet.txt` contains the entire text of Shakespeare's play Hamlet and it is one of his most popular plays."
   ]
  },
  {
   "cell_type": "code",
   "execution_count": 1,
   "metadata": {},
   "outputs": [],
   "source": [
    "# finding path to PySpark.\n",
    "import findspark\n",
    "findspark.init()\n",
    "\n",
    "# importing PySpark and initializing SparkContext object.\n",
    "import pyspark\n",
    "sc = pyspark.SparkContext()"
   ]
  },
  {
   "cell_type": "markdown",
   "metadata": {},
   "source": [
    "- Read the text file into an RDD named `raw_hamlet` using the `textFile()` method from SparkContext (this object instantiates to `sc` on our end).\n",
    "- Display the first five elements of the RDD."
   ]
  },
  {
   "cell_type": "code",
   "execution_count": 2,
   "metadata": {},
   "outputs": [
    {
     "data": {
      "text/plain": [
       "['hamlet@0\\t\\tHAMLET',\n",
       " 'hamlet@8',\n",
       " 'hamlet@9',\n",
       " 'hamlet@10\\t\\tDRAMATIS PERSONAE',\n",
       " 'hamlet@29']"
      ]
     },
     "execution_count": 2,
     "metadata": {},
     "output_type": "execute_result"
    }
   ],
   "source": [
    "raw_hamlet = sc.textFile('hamlet.txt')\n",
    "\n",
    "raw_hamlet.take(5)"
   ]
  },
  {
   "cell_type": "markdown",
   "metadata": {},
   "source": [
    "- The text file uses the tab character (`\\t`) as a delimiter. We'll need to split the file on the tab delimiter and convert the results into an RDD that's more manageable.\n",
    "- Name the resulting RDD `split_hamlet`."
   ]
  },
  {
   "cell_type": "code",
   "execution_count": 3,
   "metadata": {},
   "outputs": [
    {
     "data": {
      "text/plain": [
       "[['hamlet@0', '', 'HAMLET'],\n",
       " ['hamlet@8'],\n",
       " ['hamlet@9'],\n",
       " ['hamlet@10', '', 'DRAMATIS PERSONAE'],\n",
       " ['hamlet@29']]"
      ]
     },
     "execution_count": 3,
     "metadata": {},
     "output_type": "execute_result"
    }
   ],
   "source": [
    "split_hamlet = raw_hamlet.map(lambda line: line.split('\\t'))\n",
    "split_hamlet.take(5)"
   ]
  },
  {
   "cell_type": "markdown",
   "metadata": {},
   "source": [
    "Transform the RDD `split_hamlet` into a new RDD `hamlet_with_ids` that contains the clean version of the line ID for each element.\n",
    "\n",
    "- For example, we want to transform `hamlet@0` to `0`, and leave the rest of the values in that element untouched.\n",
    "    - Recall that the `map()` function will run on each element in the RDD, where each element is a list that we can access using regular Python mechanics."
   ]
  },
  {
   "cell_type": "code",
   "execution_count": 4,
   "metadata": {},
   "outputs": [
    {
     "data": {
      "text/plain": [
       "[['0', '', 'HAMLET'],\n",
       " ['8'],\n",
       " ['9'],\n",
       " ['10', '', 'DRAMATIS PERSONAE'],\n",
       " ['29'],\n",
       " ['30'],\n",
       " ['31', 'CLAUDIUS', 'king of Denmark. (KING CLAUDIUS:)'],\n",
       " ['74'],\n",
       " ['75', 'HAMLET', 'son to the late, and nephew to the present king.'],\n",
       " ['131']]"
      ]
     },
     "execution_count": 4,
     "metadata": {},
     "output_type": "execute_result"
    }
   ],
   "source": [
    "def format_id(x):\n",
    "    id = x[0].split('hamlet@')[1]\n",
    "    results = list()\n",
    "    results.append(id)\n",
    "    if len(x) > 1:\n",
    "        for y in x[1:]:\n",
    "            results.append(y)\n",
    "    return results\n",
    "\n",
    "hamlet_with_ids = split_hamlet.map(lambda line: format_id(line))\n",
    "hamlet_with_ids.take(10)"
   ]
  },
  {
   "cell_type": "markdown",
   "metadata": {},
   "source": [
    "- Next, we want to get rid of elements that don't contain any actual words (and just have an ID as the first value). These typically represent blank lines between paragraphs or sections in the play. We also want to remove any blank values ('') within elements, which don't contain any useful information for our analysis.\n",
    "- Clean up the RDD and store the result as a new RDD `hamlet_text_only`."
   ]
  },
  {
   "cell_type": "code",
   "execution_count": 5,
   "metadata": {},
   "outputs": [
    {
     "data": {
      "text/plain": [
       "[['0', 'HAMLET'],\n",
       " ['10', 'DRAMATIS PERSONAE'],\n",
       " ['31', 'CLAUDIUS', 'king of Denmark. (KING CLAUDIUS:)'],\n",
       " ['75', 'HAMLET', 'son to the late, and nephew to the present king.'],\n",
       " ['132', 'POLONIUS', 'lord chamberlain. (LORD POLONIUS:)']]"
      ]
     },
     "execution_count": 5,
     "metadata": {},
     "output_type": "execute_result"
    }
   ],
   "source": [
    "def filter_text_only(line):\n",
    "    results = list()\n",
    "    if len(line) > 1:\n",
    "        results.append(line[2:])\n",
    "    return results\n",
    "\n",
    "real_text = hamlet_with_ids.filter(lambda line: filter_text_only(line))\n",
    "\n",
    "hamlet_text_only = real_text.map(lambda line: [l for l in line if l != ''])\n",
    "\n",
    "hamlet_text_only.take(5)"
   ]
  },
  {
   "cell_type": "markdown",
   "metadata": {},
   "source": [
    "- Using `take()` to preview the RDD after each task, we noticed there are some pipe characters (`|`) in odd places that add no value for us. The pipe character may appear as a standalone value in an element, or as part of an otherwise useful string value.\n",
    "- Remove any list items that only contain the pipe character (`|`), and replace any pipe characters that appear within strings with an empty character.\n",
    "    - Assign the resulting RDD to `clean_hamlet`."
   ]
  },
  {
   "cell_type": "code",
   "execution_count": 6,
   "metadata": {},
   "outputs": [
    {
     "data": {
      "text/plain": [
       "[['0', 'HAMLET'],\n",
       " ['10', 'DRAMATIS PERSONAE'],\n",
       " ['31', 'CLAUDIUS', 'king of Denmark. (KING CLAUDIUS:)']]"
      ]
     },
     "execution_count": 6,
     "metadata": {},
     "output_type": "execute_result"
    }
   ],
   "source": [
    "def fix_pipe(line):\n",
    "    results = list()\n",
    "    for l in line:\n",
    "        if l == '|':\n",
    "            pass\n",
    "        elif '|' in l:\n",
    "            formatted = l.replace('|', '')\n",
    "            results.append(formatted)\n",
    "        else:\n",
    "            results.append(l)\n",
    "    return results\n",
    "            \n",
    "clean_hamlet = hamlet_text_only.map(lambda line: fix_pipe(line))\n",
    "clean_hamlet.take(3)"
   ]
  }
 ],
 "metadata": {
  "kernelspec": {
   "display_name": "Python 3",
   "language": "python",
   "name": "python3"
  },
  "language_info": {
   "codemirror_mode": {
    "name": "ipython",
    "version": 3
   },
   "file_extension": ".py",
   "mimetype": "text/x-python",
   "name": "python",
   "nbconvert_exporter": "python",
   "pygments_lexer": "ipython3",
   "version": "3.7.7"
  }
 },
 "nbformat": 4,
 "nbformat_minor": 4
}
